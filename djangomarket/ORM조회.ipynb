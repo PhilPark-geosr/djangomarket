{
 "cells": [
  {
   "cell_type": "code",
   "execution_count": 1,
   "id": "8f470574",
   "metadata": {},
   "outputs": [],
   "source": [
    "import os\n",
    "os.environ['DJANGO_SETTINGS_MODULE'] = 'djangomarket.settings'\n",
    "os.environ['DJANGO_ALLOW_ASYNC_UNSAFE'] = \"true\"\n",
    "import django\n",
    "django.setup()"
   ]
  },
  {
   "cell_type": "code",
   "execution_count": 3,
   "id": "1d341001",
   "metadata": {},
   "outputs": [],
   "source": [
    "from instagram.models import Post, Comment, Tag\n",
    "from accounts.models import Profile "
   ]
  },
  {
   "cell_type": "code",
   "execution_count": 4,
   "id": "c45c3590",
   "metadata": {},
   "outputs": [],
   "source": [
    "qs =Profile.objects.all()\n",
    "profile = qs.first()"
   ]
  },
  {
   "cell_type": "code",
   "execution_count": 5,
   "id": "b10597ec",
   "metadata": {},
   "outputs": [
    {
     "data": {
      "text/plain": [
       "<User: admin>"
      ]
     },
     "execution_count": 5,
     "metadata": {},
     "output_type": "execute_result"
    }
   ],
   "source": [
    "profile.user"
   ]
  },
  {
   "cell_type": "code",
   "execution_count": 6,
   "id": "5180ce19",
   "metadata": {},
   "outputs": [
    {
     "data": {
      "text/plain": [
       "<User: admin>"
      ]
     },
     "execution_count": 6,
     "metadata": {},
     "output_type": "execute_result"
    }
   ],
   "source": [
    "from django.contrib.auth import get_user_model ##현재 활성화 되어 있는 User 모델을 얻을 수 있음\n",
    "User = get_user_model()\n",
    "user = User.objects.first()\n",
    "user"
   ]
  },
  {
   "cell_type": "code",
   "execution_count": 7,
   "id": "390747bb",
   "metadata": {},
   "outputs": [
    {
     "data": {
      "text/plain": [
       "<Profile: Profile object (1)>"
      ]
     },
     "execution_count": 7,
     "metadata": {},
     "output_type": "execute_result"
    }
   ],
   "source": [
    "user.profile #reveser접근시 : user.{참조하고싶은 모델소문자}"
   ]
  },
  {
   "cell_type": "code",
   "execution_count": 8,
   "id": "ec9b2589",
   "metadata": {},
   "outputs": [
    {
     "data": {
      "text/plain": [
       "<Comment: Comment object (4)>"
      ]
     },
     "execution_count": 8,
     "metadata": {},
     "output_type": "execute_result"
    }
   ],
   "source": [
    "comment = Comment.objects.first()\n",
    "comment"
   ]
  },
  {
   "cell_type": "code",
   "execution_count": 9,
   "id": "9ff08a3f",
   "metadata": {},
   "outputs": [
    {
     "data": {
      "text/plain": [
       "<Post: 두번째 포스팅 입니다 아아아>"
      ]
     },
     "execution_count": 9,
     "metadata": {},
     "output_type": "execute_result"
    }
   ],
   "source": [
    "comment.post\n",
    "# Post.objects.get(pk = comment.post_id) 내부적으로는 이 동작이 수행되는 것임"
   ]
  },
  {
   "cell_type": "code",
   "execution_count": 10,
   "id": "0880da28",
   "metadata": {},
   "outputs": [
    {
     "name": "stdout",
     "output_type": "stream",
     "text": [
      "3\n",
      "<QuerySet [<Comment: Comment object (4)>, <Comment: Comment object (2)>]>\n",
      "<QuerySet [<Comment: Comment object (4)>, <Comment: Comment object (2)>]>\n",
      "<QuerySet [<Comment: Comment object (4)>, <Comment: Comment object (2)>]>\n",
      "<QuerySet [<Comment: Comment object (4)>, <Comment: Comment object (2)>]>\n",
      "두번째 포스팅에 대한 두번째 댓글\n",
      "두번째 포스팅에 대한 첫번재 댓글\n"
     ]
    }
   ],
   "source": [
    "post = Post.objects.filter(message__icontains = \"두번째\" ).first()\n",
    "print(post.id)\n",
    "\n",
    "# 요 네개는 다 같은 결과\n",
    "print(Comment.objects.filter(post_id = post.id))\n",
    "print(Comment.objects.filter(post__id = post.id))\n",
    "print(Comment.objects.filter(post = post))\n",
    "\n",
    "print(post.comment_set.all())\n",
    "\n",
    "#쿼리값 출력\n",
    "qs = post.comment_set.all()\n",
    "for q in qs:\n",
    "    print(q.message)"
   ]
  },
  {
   "attachments": {},
   "cell_type": "markdown",
   "id": "2a225f27",
   "metadata": {},
   "source": [
    "## ManyToMany"
   ]
  },
  {
   "cell_type": "code",
   "execution_count": 21,
   "id": "e1bbdbfa",
   "metadata": {},
   "outputs": [
    {
     "name": "stdout",
     "output_type": "stream",
     "text": [
      "<class 'instagram.models.Post'>\n",
      "{'_state': <django.db.models.base.ModelState object at 0x00000237B7CB3DF0>, 'id': 3, 'author_id': 1, 'message': '두번째 포스팅 입니다 아아아', 'photo': 'instagram/post/2023/06/08/KakaoTalk_20230502_095641368.jpg', 'is_public': True, 'created_at': datetime.datetime(2023, 6, 7, 7, 22, 42, 307654, tzinfo=<UTC>), 'updated_at': datetime.datetime(2023, 6, 21, 4, 45, 37, 545989, tzinfo=<UTC>)}\n"
     ]
    },
    {
     "data": {
      "text/plain": [
       "<QuerySet [<Tag: 파이썬>]>"
      ]
     },
     "execution_count": 21,
     "metadata": {},
     "output_type": "execute_result"
    }
   ],
   "source": [
    "post = Post.objects.get(message__icontains=\"두번째\")\n",
    "print(type(post)) #class\n"
   ]
  },
  {
   "cell_type": "code",
   "execution_count": 24,
   "id": "3057af8d",
   "metadata": {},
   "outputs": [
    {
     "name": "stdout",
     "output_type": "stream",
     "text": [
      "{'_state': <django.db.models.base.ModelState object at 0x00000237B7CB3DF0>, 'id': 3, 'author_id': 1, 'message': '두번째 포스팅 입니다 아아아', 'photo': 'instagram/post/2023/06/08/KakaoTalk_20230502_095641368.jpg', 'is_public': True, 'created_at': datetime.datetime(2023, 6, 7, 7, 22, 42, 307654, tzinfo=<UTC>), 'updated_at': datetime.datetime(2023, 6, 21, 4, 45, 37, 545989, tzinfo=<UTC>)}\n",
      "['DoesNotExist', 'MultipleObjectsReturned', '__class__', '__delattr__', '__dict__', '__dir__', '__doc__', '__eq__', '__format__', '__ge__', '__getattribute__', '__getstate__', '__gt__', '__hash__', '__init__', '__init_subclass__', '__le__', '__lt__', '__module__', '__ne__', '__new__', '__reduce__', '__reduce_ex__', '__repr__', '__setattr__', '__setstate__', '__sizeof__', '__str__', '__subclasshook__', '__weakref__', '_check_column_name_clashes', '_check_constraints', '_check_field_name_clashes', '_check_fields', '_check_id_field', '_check_index_together', '_check_indexes', '_check_local_fields', '_check_long_column_names', '_check_m2m_through_same_relationship', '_check_managers', '_check_model', '_check_model_name_db_lookup_clashes', '_check_ordering', '_check_property_name_related_field_accessor_clashes', '_check_single_primary_key', '_check_swappable', '_check_unique_together', '_do_insert', '_do_update', '_get_FIELD_display', '_get_next_or_previous_by_FIELD', '_get_next_or_previous_in_order', '_get_pk_val', '_get_unique_checks', '_meta', '_perform_date_checks', '_perform_unique_checks', '_save_parents', '_save_table', '_set_pk_val', '_state', 'author', 'author_id', 'check', 'clean', 'clean_fields', 'comment_set', 'created_at', 'date_error_message', 'delete', 'from_db', 'full_clean', 'get_absolute_url', 'get_deferred_fields', 'get_next_by_created_at', 'get_next_by_updated_at', 'get_previous_by_created_at', 'get_previous_by_updated_at', 'id', 'is_public', 'message', 'objects', 'photo', 'pk', 'prepare_database_save', 'refresh_from_db', 'save', 'save_base', 'serializable_value', 'tag_set', 'unique_error_message', 'updated_at', 'validate_unique']\n"
     ]
    },
    {
     "data": {
      "text/plain": [
       "<QuerySet [<Tag: 파이썬>]>"
      ]
     },
     "execution_count": 24,
     "metadata": {},
     "output_type": "execute_result"
    }
   ],
   "source": [
    "print(post.__dict__) #class method, 변수 출력\n",
    "print(dir(post)) #여기에 tag_set있음\n",
    "post.tag_set.all()"
   ]
  },
  {
   "cell_type": "code",
   "execution_count": 26,
   "id": "848a4cc6",
   "metadata": {},
   "outputs": [
    {
     "name": "stdout",
     "output_type": "stream",
     "text": [
      "tag <QuerySet [<Tag: 파이썬>, <Tag: 장고>, <Tag: project>]>\n"
     ]
    },
    {
     "ename": "IntegrityError",
     "evalue": "UNIQUE constraint failed: instagram_tag.name",
     "output_type": "error",
     "traceback": [
      "\u001b[1;31m---------------------------------------------------------------------------\u001b[0m",
      "\u001b[1;31mIntegrityError\u001b[0m                            Traceback (most recent call last)",
      "File \u001b[1;32m~\\AppData\\Local\\pypoetry\\Cache\\virtualenvs\\djangomarket-E7AbOx3f-py3.9\\lib\\site-packages\\django\\db\\backends\\utils.py:86\u001b[0m, in \u001b[0;36mCursorWrapper._execute\u001b[1;34m(self, sql, params, *ignored_wrapper_args)\u001b[0m\n\u001b[0;32m     85\u001b[0m \u001b[39melse\u001b[39;00m:\n\u001b[1;32m---> 86\u001b[0m     \u001b[39mreturn\u001b[39;00m \u001b[39mself\u001b[39;49m\u001b[39m.\u001b[39;49mcursor\u001b[39m.\u001b[39;49mexecute(sql, params)\n",
      "File \u001b[1;32m~\\AppData\\Local\\pypoetry\\Cache\\virtualenvs\\djangomarket-E7AbOx3f-py3.9\\lib\\site-packages\\django\\db\\backends\\sqlite3\\base.py:396\u001b[0m, in \u001b[0;36mSQLiteCursorWrapper.execute\u001b[1;34m(self, query, params)\u001b[0m\n\u001b[0;32m    395\u001b[0m query \u001b[39m=\u001b[39m \u001b[39mself\u001b[39m\u001b[39m.\u001b[39mconvert_query(query)\n\u001b[1;32m--> 396\u001b[0m \u001b[39mreturn\u001b[39;00m Database\u001b[39m.\u001b[39;49mCursor\u001b[39m.\u001b[39;49mexecute(\u001b[39mself\u001b[39;49m, query, params)\n",
      "\u001b[1;31mIntegrityError\u001b[0m: UNIQUE constraint failed: instagram_tag.name",
      "\nThe above exception was the direct cause of the following exception:\n",
      "\u001b[1;31mIntegrityError\u001b[0m                            Traceback (most recent call last)",
      "Cell \u001b[1;32mIn[26], line 4\u001b[0m\n\u001b[0;32m      2\u001b[0m tag \u001b[39m=\u001b[39m Tag\u001b[39m.\u001b[39mobjects\u001b[39m.\u001b[39mall()\n\u001b[0;32m      3\u001b[0m \u001b[39mprint\u001b[39m(\u001b[39m\"\u001b[39m\u001b[39mtag\u001b[39m\u001b[39m\"\u001b[39m, tag)\n\u001b[1;32m----> 4\u001b[0m Tag\u001b[39m.\u001b[39;49mobjects\u001b[39m.\u001b[39;49mcreate(name \u001b[39m=\u001b[39;49m \u001b[39m\"\u001b[39;49m\u001b[39m장고\u001b[39;49m\u001b[39m\"\u001b[39;49m)\n\u001b[0;32m      5\u001b[0m Tag\u001b[39m.\u001b[39mobjects\u001b[39m.\u001b[39mcreate(name \u001b[39m=\u001b[39m \u001b[39m\"\u001b[39m\u001b[39mproject\u001b[39m\u001b[39m\"\u001b[39m)\n\u001b[0;32m      6\u001b[0m tag \u001b[39m=\u001b[39m Tag\u001b[39m.\u001b[39mobjects\u001b[39m.\u001b[39mall()\n",
      "File \u001b[1;32m~\\AppData\\Local\\pypoetry\\Cache\\virtualenvs\\djangomarket-E7AbOx3f-py3.9\\lib\\site-packages\\django\\db\\models\\manager.py:82\u001b[0m, in \u001b[0;36mBaseManager._get_queryset_methods.<locals>.create_method.<locals>.manager_method\u001b[1;34m(self, *args, **kwargs)\u001b[0m\n\u001b[0;32m     81\u001b[0m \u001b[39mdef\u001b[39;00m \u001b[39mmanager_method\u001b[39m(\u001b[39mself\u001b[39m, \u001b[39m*\u001b[39margs, \u001b[39m*\u001b[39m\u001b[39m*\u001b[39mkwargs):\n\u001b[1;32m---> 82\u001b[0m     \u001b[39mreturn\u001b[39;00m \u001b[39mgetattr\u001b[39m(\u001b[39mself\u001b[39m\u001b[39m.\u001b[39mget_queryset(), name)(\u001b[39m*\u001b[39margs, \u001b[39m*\u001b[39m\u001b[39m*\u001b[39mkwargs)\n",
      "File \u001b[1;32m~\\AppData\\Local\\pypoetry\\Cache\\virtualenvs\\djangomarket-E7AbOx3f-py3.9\\lib\\site-packages\\django\\db\\models\\query.py:433\u001b[0m, in \u001b[0;36mQuerySet.create\u001b[1;34m(self, **kwargs)\u001b[0m\n\u001b[0;32m    431\u001b[0m obj \u001b[39m=\u001b[39m \u001b[39mself\u001b[39m\u001b[39m.\u001b[39mmodel(\u001b[39m*\u001b[39m\u001b[39m*\u001b[39mkwargs)\n\u001b[0;32m    432\u001b[0m \u001b[39mself\u001b[39m\u001b[39m.\u001b[39m_for_write \u001b[39m=\u001b[39m \u001b[39mTrue\u001b[39;00m\n\u001b[1;32m--> 433\u001b[0m obj\u001b[39m.\u001b[39;49msave(force_insert\u001b[39m=\u001b[39;49m\u001b[39mTrue\u001b[39;49;00m, using\u001b[39m=\u001b[39;49m\u001b[39mself\u001b[39;49m\u001b[39m.\u001b[39;49mdb)\n\u001b[0;32m    434\u001b[0m \u001b[39mreturn\u001b[39;00m obj\n",
      "File \u001b[1;32m~\\AppData\\Local\\pypoetry\\Cache\\virtualenvs\\djangomarket-E7AbOx3f-py3.9\\lib\\site-packages\\django\\db\\models\\base.py:748\u001b[0m, in \u001b[0;36mModel.save\u001b[1;34m(self, force_insert, force_update, using, update_fields)\u001b[0m\n\u001b[0;32m    745\u001b[0m     \u001b[39mif\u001b[39;00m loaded_fields:\n\u001b[0;32m    746\u001b[0m         update_fields \u001b[39m=\u001b[39m \u001b[39mfrozenset\u001b[39m(loaded_fields)\n\u001b[1;32m--> 748\u001b[0m \u001b[39mself\u001b[39;49m\u001b[39m.\u001b[39;49msave_base(using\u001b[39m=\u001b[39;49musing, force_insert\u001b[39m=\u001b[39;49mforce_insert,\n\u001b[0;32m    749\u001b[0m                force_update\u001b[39m=\u001b[39;49mforce_update, update_fields\u001b[39m=\u001b[39;49mupdate_fields)\n",
      "File \u001b[1;32m~\\AppData\\Local\\pypoetry\\Cache\\virtualenvs\\djangomarket-E7AbOx3f-py3.9\\lib\\site-packages\\django\\db\\models\\base.py:785\u001b[0m, in \u001b[0;36mModel.save_base\u001b[1;34m(self, raw, force_insert, force_update, using, update_fields)\u001b[0m\n\u001b[0;32m    783\u001b[0m     \u001b[39mif\u001b[39;00m \u001b[39mnot\u001b[39;00m raw:\n\u001b[0;32m    784\u001b[0m         parent_inserted \u001b[39m=\u001b[39m \u001b[39mself\u001b[39m\u001b[39m.\u001b[39m_save_parents(\u001b[39mcls\u001b[39m, using, update_fields)\n\u001b[1;32m--> 785\u001b[0m     updated \u001b[39m=\u001b[39m \u001b[39mself\u001b[39;49m\u001b[39m.\u001b[39;49m_save_table(\n\u001b[0;32m    786\u001b[0m         raw, \u001b[39mcls\u001b[39;49m, force_insert \u001b[39mor\u001b[39;49;00m parent_inserted,\n\u001b[0;32m    787\u001b[0m         force_update, using, update_fields,\n\u001b[0;32m    788\u001b[0m     )\n\u001b[0;32m    789\u001b[0m \u001b[39m# Store the database on which the object was saved\u001b[39;00m\n\u001b[0;32m    790\u001b[0m \u001b[39mself\u001b[39m\u001b[39m.\u001b[39m_state\u001b[39m.\u001b[39mdb \u001b[39m=\u001b[39m using\n",
      "File \u001b[1;32m~\\AppData\\Local\\pypoetry\\Cache\\virtualenvs\\djangomarket-E7AbOx3f-py3.9\\lib\\site-packages\\django\\db\\models\\base.py:890\u001b[0m, in \u001b[0;36mModel._save_table\u001b[1;34m(self, raw, cls, force_insert, force_update, using, update_fields)\u001b[0m\n\u001b[0;32m    887\u001b[0m     fields \u001b[39m=\u001b[39m [f \u001b[39mfor\u001b[39;00m f \u001b[39min\u001b[39;00m fields \u001b[39mif\u001b[39;00m f \u001b[39mis\u001b[39;00m \u001b[39mnot\u001b[39;00m meta\u001b[39m.\u001b[39mauto_field]\n\u001b[0;32m    889\u001b[0m returning_fields \u001b[39m=\u001b[39m meta\u001b[39m.\u001b[39mdb_returning_fields\n\u001b[1;32m--> 890\u001b[0m results \u001b[39m=\u001b[39m \u001b[39mself\u001b[39;49m\u001b[39m.\u001b[39;49m_do_insert(\u001b[39mcls\u001b[39;49m\u001b[39m.\u001b[39;49m_base_manager, using, fields, returning_fields, raw)\n\u001b[0;32m    891\u001b[0m \u001b[39mfor\u001b[39;00m result, field \u001b[39min\u001b[39;00m \u001b[39mzip\u001b[39m(results, returning_fields):\n\u001b[0;32m    892\u001b[0m     \u001b[39msetattr\u001b[39m(\u001b[39mself\u001b[39m, field\u001b[39m.\u001b[39mattname, result)\n",
      "File \u001b[1;32m~\\AppData\\Local\\pypoetry\\Cache\\virtualenvs\\djangomarket-E7AbOx3f-py3.9\\lib\\site-packages\\django\\db\\models\\base.py:927\u001b[0m, in \u001b[0;36mModel._do_insert\u001b[1;34m(self, manager, using, fields, returning_fields, raw)\u001b[0m\n\u001b[0;32m    922\u001b[0m \u001b[39mdef\u001b[39;00m \u001b[39m_do_insert\u001b[39m(\u001b[39mself\u001b[39m, manager, using, fields, returning_fields, raw):\n\u001b[0;32m    923\u001b[0m \u001b[39m    \u001b[39m\u001b[39m\"\"\"\u001b[39;00m\n\u001b[0;32m    924\u001b[0m \u001b[39m    Do an INSERT. If returning_fields is defined then this method should\u001b[39;00m\n\u001b[0;32m    925\u001b[0m \u001b[39m    return the newly created data for the model.\u001b[39;00m\n\u001b[0;32m    926\u001b[0m \u001b[39m    \"\"\"\u001b[39;00m\n\u001b[1;32m--> 927\u001b[0m     \u001b[39mreturn\u001b[39;00m manager\u001b[39m.\u001b[39;49m_insert(\n\u001b[0;32m    928\u001b[0m         [\u001b[39mself\u001b[39;49m], fields\u001b[39m=\u001b[39;49mfields, returning_fields\u001b[39m=\u001b[39;49mreturning_fields,\n\u001b[0;32m    929\u001b[0m         using\u001b[39m=\u001b[39;49musing, raw\u001b[39m=\u001b[39;49mraw,\n\u001b[0;32m    930\u001b[0m     )\n",
      "File \u001b[1;32m~\\AppData\\Local\\pypoetry\\Cache\\virtualenvs\\djangomarket-E7AbOx3f-py3.9\\lib\\site-packages\\django\\db\\models\\manager.py:82\u001b[0m, in \u001b[0;36mBaseManager._get_queryset_methods.<locals>.create_method.<locals>.manager_method\u001b[1;34m(self, *args, **kwargs)\u001b[0m\n\u001b[0;32m     81\u001b[0m \u001b[39mdef\u001b[39;00m \u001b[39mmanager_method\u001b[39m(\u001b[39mself\u001b[39m, \u001b[39m*\u001b[39margs, \u001b[39m*\u001b[39m\u001b[39m*\u001b[39mkwargs):\n\u001b[1;32m---> 82\u001b[0m     \u001b[39mreturn\u001b[39;00m \u001b[39mgetattr\u001b[39m(\u001b[39mself\u001b[39m\u001b[39m.\u001b[39mget_queryset(), name)(\u001b[39m*\u001b[39margs, \u001b[39m*\u001b[39m\u001b[39m*\u001b[39mkwargs)\n",
      "File \u001b[1;32m~\\AppData\\Local\\pypoetry\\Cache\\virtualenvs\\djangomarket-E7AbOx3f-py3.9\\lib\\site-packages\\django\\db\\models\\query.py:1204\u001b[0m, in \u001b[0;36mQuerySet._insert\u001b[1;34m(self, objs, fields, returning_fields, raw, using, ignore_conflicts)\u001b[0m\n\u001b[0;32m   1202\u001b[0m query \u001b[39m=\u001b[39m sql\u001b[39m.\u001b[39mInsertQuery(\u001b[39mself\u001b[39m\u001b[39m.\u001b[39mmodel, ignore_conflicts\u001b[39m=\u001b[39mignore_conflicts)\n\u001b[0;32m   1203\u001b[0m query\u001b[39m.\u001b[39minsert_values(fields, objs, raw\u001b[39m=\u001b[39mraw)\n\u001b[1;32m-> 1204\u001b[0m \u001b[39mreturn\u001b[39;00m query\u001b[39m.\u001b[39;49mget_compiler(using\u001b[39m=\u001b[39;49musing)\u001b[39m.\u001b[39;49mexecute_sql(returning_fields)\n",
      "File \u001b[1;32m~\\AppData\\Local\\pypoetry\\Cache\\virtualenvs\\djangomarket-E7AbOx3f-py3.9\\lib\\site-packages\\django\\db\\models\\sql\\compiler.py:1394\u001b[0m, in \u001b[0;36mSQLInsertCompiler.execute_sql\u001b[1;34m(self, returning_fields)\u001b[0m\n\u001b[0;32m   1392\u001b[0m \u001b[39mwith\u001b[39;00m \u001b[39mself\u001b[39m\u001b[39m.\u001b[39mconnection\u001b[39m.\u001b[39mcursor() \u001b[39mas\u001b[39;00m cursor:\n\u001b[0;32m   1393\u001b[0m     \u001b[39mfor\u001b[39;00m sql, params \u001b[39min\u001b[39;00m \u001b[39mself\u001b[39m\u001b[39m.\u001b[39mas_sql():\n\u001b[1;32m-> 1394\u001b[0m         cursor\u001b[39m.\u001b[39;49mexecute(sql, params)\n\u001b[0;32m   1395\u001b[0m     \u001b[39mif\u001b[39;00m \u001b[39mnot\u001b[39;00m \u001b[39mself\u001b[39m\u001b[39m.\u001b[39mreturning_fields:\n\u001b[0;32m   1396\u001b[0m         \u001b[39mreturn\u001b[39;00m []\n",
      "File \u001b[1;32m~\\AppData\\Local\\pypoetry\\Cache\\virtualenvs\\djangomarket-E7AbOx3f-py3.9\\lib\\site-packages\\django\\db\\backends\\utils.py:100\u001b[0m, in \u001b[0;36mCursorDebugWrapper.execute\u001b[1;34m(self, sql, params)\u001b[0m\n\u001b[0;32m     98\u001b[0m \u001b[39mdef\u001b[39;00m \u001b[39mexecute\u001b[39m(\u001b[39mself\u001b[39m, sql, params\u001b[39m=\u001b[39m\u001b[39mNone\u001b[39;00m):\n\u001b[0;32m     99\u001b[0m     \u001b[39mwith\u001b[39;00m \u001b[39mself\u001b[39m\u001b[39m.\u001b[39mdebug_sql(sql, params, use_last_executed_query\u001b[39m=\u001b[39m\u001b[39mTrue\u001b[39;00m):\n\u001b[1;32m--> 100\u001b[0m         \u001b[39mreturn\u001b[39;00m \u001b[39msuper\u001b[39;49m()\u001b[39m.\u001b[39;49mexecute(sql, params)\n",
      "File \u001b[1;32m~\\AppData\\Local\\pypoetry\\Cache\\virtualenvs\\djangomarket-E7AbOx3f-py3.9\\lib\\site-packages\\django\\db\\backends\\utils.py:68\u001b[0m, in \u001b[0;36mCursorWrapper.execute\u001b[1;34m(self, sql, params)\u001b[0m\n\u001b[0;32m     67\u001b[0m \u001b[39mdef\u001b[39;00m \u001b[39mexecute\u001b[39m(\u001b[39mself\u001b[39m, sql, params\u001b[39m=\u001b[39m\u001b[39mNone\u001b[39;00m):\n\u001b[1;32m---> 68\u001b[0m     \u001b[39mreturn\u001b[39;00m \u001b[39mself\u001b[39;49m\u001b[39m.\u001b[39;49m_execute_with_wrappers(sql, params, many\u001b[39m=\u001b[39;49m\u001b[39mFalse\u001b[39;49;00m, executor\u001b[39m=\u001b[39;49m\u001b[39mself\u001b[39;49m\u001b[39m.\u001b[39;49m_execute)\n",
      "File \u001b[1;32m~\\AppData\\Local\\pypoetry\\Cache\\virtualenvs\\djangomarket-E7AbOx3f-py3.9\\lib\\site-packages\\django\\db\\backends\\utils.py:77\u001b[0m, in \u001b[0;36mCursorWrapper._execute_with_wrappers\u001b[1;34m(self, sql, params, many, executor)\u001b[0m\n\u001b[0;32m     75\u001b[0m \u001b[39mfor\u001b[39;00m wrapper \u001b[39min\u001b[39;00m \u001b[39mreversed\u001b[39m(\u001b[39mself\u001b[39m\u001b[39m.\u001b[39mdb\u001b[39m.\u001b[39mexecute_wrappers):\n\u001b[0;32m     76\u001b[0m     executor \u001b[39m=\u001b[39m functools\u001b[39m.\u001b[39mpartial(wrapper, executor)\n\u001b[1;32m---> 77\u001b[0m \u001b[39mreturn\u001b[39;00m executor(sql, params, many, context)\n",
      "File \u001b[1;32m~\\AppData\\Local\\pypoetry\\Cache\\virtualenvs\\djangomarket-E7AbOx3f-py3.9\\lib\\site-packages\\django\\db\\backends\\utils.py:86\u001b[0m, in \u001b[0;36mCursorWrapper._execute\u001b[1;34m(self, sql, params, *ignored_wrapper_args)\u001b[0m\n\u001b[0;32m     84\u001b[0m     \u001b[39mreturn\u001b[39;00m \u001b[39mself\u001b[39m\u001b[39m.\u001b[39mcursor\u001b[39m.\u001b[39mexecute(sql)\n\u001b[0;32m     85\u001b[0m \u001b[39melse\u001b[39;00m:\n\u001b[1;32m---> 86\u001b[0m     \u001b[39mreturn\u001b[39;00m \u001b[39mself\u001b[39m\u001b[39m.\u001b[39mcursor\u001b[39m.\u001b[39mexecute(sql, params)\n",
      "File \u001b[1;32m~\\AppData\\Local\\pypoetry\\Cache\\virtualenvs\\djangomarket-E7AbOx3f-py3.9\\lib\\site-packages\\django\\db\\utils.py:90\u001b[0m, in \u001b[0;36mDatabaseErrorWrapper.__exit__\u001b[1;34m(self, exc_type, exc_value, traceback)\u001b[0m\n\u001b[0;32m     88\u001b[0m \u001b[39mif\u001b[39;00m dj_exc_type \u001b[39mnot\u001b[39;00m \u001b[39min\u001b[39;00m (DataError, IntegrityError):\n\u001b[0;32m     89\u001b[0m     \u001b[39mself\u001b[39m\u001b[39m.\u001b[39mwrapper\u001b[39m.\u001b[39merrors_occurred \u001b[39m=\u001b[39m \u001b[39mTrue\u001b[39;00m\n\u001b[1;32m---> 90\u001b[0m \u001b[39mraise\u001b[39;00m dj_exc_value\u001b[39m.\u001b[39mwith_traceback(traceback) \u001b[39mfrom\u001b[39;00m \u001b[39mexc_value\u001b[39;00m\n",
      "File \u001b[1;32m~\\AppData\\Local\\pypoetry\\Cache\\virtualenvs\\djangomarket-E7AbOx3f-py3.9\\lib\\site-packages\\django\\db\\backends\\utils.py:86\u001b[0m, in \u001b[0;36mCursorWrapper._execute\u001b[1;34m(self, sql, params, *ignored_wrapper_args)\u001b[0m\n\u001b[0;32m     84\u001b[0m     \u001b[39mreturn\u001b[39;00m \u001b[39mself\u001b[39m\u001b[39m.\u001b[39mcursor\u001b[39m.\u001b[39mexecute(sql)\n\u001b[0;32m     85\u001b[0m \u001b[39melse\u001b[39;00m:\n\u001b[1;32m---> 86\u001b[0m     \u001b[39mreturn\u001b[39;00m \u001b[39mself\u001b[39;49m\u001b[39m.\u001b[39;49mcursor\u001b[39m.\u001b[39;49mexecute(sql, params)\n",
      "File \u001b[1;32m~\\AppData\\Local\\pypoetry\\Cache\\virtualenvs\\djangomarket-E7AbOx3f-py3.9\\lib\\site-packages\\django\\db\\backends\\sqlite3\\base.py:396\u001b[0m, in \u001b[0;36mSQLiteCursorWrapper.execute\u001b[1;34m(self, query, params)\u001b[0m\n\u001b[0;32m    394\u001b[0m     \u001b[39mreturn\u001b[39;00m Database\u001b[39m.\u001b[39mCursor\u001b[39m.\u001b[39mexecute(\u001b[39mself\u001b[39m, query)\n\u001b[0;32m    395\u001b[0m query \u001b[39m=\u001b[39m \u001b[39mself\u001b[39m\u001b[39m.\u001b[39mconvert_query(query)\n\u001b[1;32m--> 396\u001b[0m \u001b[39mreturn\u001b[39;00m Database\u001b[39m.\u001b[39;49mCursor\u001b[39m.\u001b[39;49mexecute(\u001b[39mself\u001b[39;49m, query, params)\n",
      "\u001b[1;31mIntegrityError\u001b[0m: UNIQUE constraint failed: instagram_tag.name"
     ]
    }
   ],
   "source": [
    "# 새로운 태그 생성\n",
    "tag = Tag.objects.all()\n",
    "print(\"tag\", tag)\n",
    "Tag.objects.create(name = \"장고\")\n",
    "Tag.objects.create(name = \"project\")\n",
    "tag = Tag.objects.all()\n",
    "print(\"tag\", tag)"
   ]
  },
  {
   "cell_type": "code",
   "execution_count": 28,
   "id": "7d3f80e5",
   "metadata": {},
   "outputs": [
    {
     "name": "stdout",
     "output_type": "stream",
     "text": [
      "<QuerySet [<Tag: 파이썬>]>\n",
      "<QuerySet [<Tag: 파이썬>, <Tag: 장고>]>\n"
     ]
    }
   ],
   "source": [
    "#여러개 태그 추가 : ManyToMany field 지원한 곳에 add 메서드 활용\n",
    "print(post.tag_set.all())\n",
    "tag= Tag.objects.get(name = \"장고\")\n",
    "post.tag_set.add(tag)\n",
    "print(post.tag_set.all())"
   ]
  },
  {
   "cell_type": "code",
   "execution_count": 30,
   "id": "a826752a",
   "metadata": {},
   "outputs": [
    {
     "name": "stdout",
     "output_type": "stream",
     "text": [
      "<QuerySet [<Tag: 파이썬>, <Tag: 장고>, <Tag: project>]>\n",
      "<QuerySet [<Tag: 파이썬>, <Tag: 장고>, <Tag: project>]>\n"
     ]
    }
   ],
   "source": [
    "## 태그 한꺼번에 추가도 가능\n",
    "tag_qs = Tag.objects.all()\n",
    "print(tag_qs)\n",
    "\n",
    "post.tag_set.add(*tag_qs)\n",
    "print(post.tag_set.all())"
   ]
  },
  {
   "cell_type": "code",
   "execution_count": null,
   "id": "ab92cc9f",
   "metadata": {},
   "outputs": [],
   "source": []
  }
 ],
 "metadata": {
  "kernelspec": {
   "display_name": "Python 3 (ipykernel)",
   "language": "python",
   "name": "python3"
  },
  "language_info": {
   "codemirror_mode": {
    "name": "ipython",
    "version": 3
   },
   "file_extension": ".py",
   "mimetype": "text/x-python",
   "name": "python",
   "nbconvert_exporter": "python",
   "pygments_lexer": "ipython3",
   "version": "3.9.12"
  }
 },
 "nbformat": 4,
 "nbformat_minor": 5
}
