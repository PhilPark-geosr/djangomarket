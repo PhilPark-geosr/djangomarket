{
 "cells": [
  {
   "cell_type": "code",
   "execution_count": 5,
   "id": "c45c3590",
   "metadata": {},
   "outputs": [],
   "source": [
    "qs =Profile.objects.all()\n",
    "profile = qs.first()"
   ]
  },
  {
   "cell_type": "code",
   "execution_count": 7,
   "id": "b10597ec",
   "metadata": {},
   "outputs": [
    {
     "data": {
      "text/plain": [
       "<User: admin>"
      ]
     },
     "execution_count": 7,
     "metadata": {},
     "output_type": "execute_result"
    }
   ],
   "source": [
    "profile.user"
   ]
  },
  {
   "cell_type": "code",
   "execution_count": 14,
   "id": "2499204c",
   "metadata": {},
   "outputs": [
    {
     "data": {
      "text/plain": [
       "<User: admin>"
      ]
     },
     "execution_count": 14,
     "metadata": {},
     "output_type": "execute_result"
    }
   ],
   "source": [
    "from django.contrib.auth import get_user_model ##현재 활성화 되어 있는 User 모델을 얻을 수 있음\n",
    "User = get_user_model()\n",
    "user = User.objects.first()\n",
    "user"
   ]
  },
  {
   "cell_type": "code",
   "execution_count": 15,
   "id": "79485bce",
   "metadata": {},
   "outputs": [
    {
     "data": {
      "text/plain": [
       "<Profile: Profile object (1)>"
      ]
     },
     "execution_count": 15,
     "metadata": {},
     "output_type": "execute_result"
    }
   ],
   "source": [
    "user.profile #reveser접근시 : user.{참조하고싶은 모델소문자}"
   ]
  },
  {
   "cell_type": "code",
   "execution_count": 18,
   "id": "c82bf611",
   "metadata": {},
   "outputs": [
    {
     "data": {
      "text/plain": [
       "<Comment: Comment object (3)>"
      ]
     },
     "execution_count": 18,
     "metadata": {},
     "output_type": "execute_result"
    }
   ],
   "source": [
    "comment = Comment.objects.first()\n",
    "comment"
   ]
  },
  {
   "cell_type": "code",
   "execution_count": 20,
   "id": "39a9a944",
   "metadata": {},
   "outputs": [
    {
     "data": {
      "text/plain": [
       "<Post: 두번째 포스팅>"
      ]
     },
     "execution_count": 20,
     "metadata": {},
     "output_type": "execute_result"
    }
   ],
   "source": [
    "comment.post\n",
    "# Post.objects.get(pk = comment.post_id) 내부적으로는 이 동작이 수행되는 것임"
   ]
  },
  {
   "cell_type": "code",
   "execution_count": 36,
   "id": "b5e37db7",
   "metadata": {},
   "outputs": [
    {
     "name": "stdout",
     "output_type": "stream",
     "text": [
      "3\n",
      "<QuerySet [<Comment: Comment object (4)>, <Comment: Comment object (2)>]>\n",
      "<QuerySet [<Comment: Comment object (4)>, <Comment: Comment object (2)>]>\n",
      "<QuerySet [<Comment: Comment object (4)>, <Comment: Comment object (2)>]>\n",
      "<QuerySet [<Comment: Comment object (4)>, <Comment: Comment object (2)>]>\n",
      "두번째 포스팅에 대한 두번째 댓글\n",
      "두번째 포스팅에 대한 첫번재 댓글\n"
     ]
    }
   ],
   "source": [
    "post = Post.objects.filter(message__icontains = \"두번째\" ).first()\n",
    "print(post.id)\n",
    "\n",
    "# 요 네개는 다 같은 결과\n",
    "print(Comment.objects.filter(post_id = post.id))\n",
    "print(Comment.objects.filter(post__id = post.id))\n",
    "print(Comment.objects.filter(post = post))\n",
    "\n",
    "print(post.comment_set.all())\n",
    "\n",
    "#쿼리값 출력\n",
    "qs = post.comment_set.all()\n",
    "for q in qs:\n",
    "    print(q.message)"
   ]
  },
  {
   "cell_type": "code",
   "execution_count": null,
   "id": "ea26b845",
   "metadata": {},
   "outputs": [],
   "source": []
  }
 ],
 "metadata": {
  "kernelspec": {
   "display_name": "Django Shell-Plus",
   "language": "python",
   "name": "django_extensions"
  },
  "language_info": {
   "codemirror_mode": {
    "name": "ipython",
    "version": 3
   },
   "file_extension": ".py",
   "mimetype": "text/x-python",
   "name": "python",
   "nbconvert_exporter": "python",
   "pygments_lexer": "ipython3",
   "version": "3.9.12"
  }
 },
 "nbformat": 4,
 "nbformat_minor": 5
}
