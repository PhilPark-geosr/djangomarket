{
 "cells": [
  {
   "cell_type": "code",
   "execution_count": 1,
   "id": "8f470574",
   "metadata": {},
   "outputs": [],
   "source": [
    "import os\n",
    "os.environ['DJANGO_SETTINGS_MODULE'] = 'djangomarket.settings'\n",
    "os.environ['DJANGO_ALLOW_ASYNC_UNSAFE'] = \"true\"\n",
    "import django\n",
    "django.setup()"
   ]
  },
  {
   "cell_type": "code",
   "execution_count": 2,
   "id": "1d341001",
   "metadata": {},
   "outputs": [],
   "source": [
    "from drf.models import Post\n",
    "from accounts.models import Profile "
   ]
  },
  {
   "cell_type": "code",
   "execution_count": 4,
   "id": "9f88ec2a",
   "metadata": {},
   "outputs": [],
   "source": [
    "from drf.serializers import PostSerializer        "
   ]
  },
  {
   "cell_type": "code",
   "execution_count": 25,
   "id": "c32755b5",
   "metadata": {},
   "outputs": [
    {
     "name": "stdout",
     "output_type": "stream",
     "text": [
      "<class 'drf.models.Post'>\n",
      "<class 'rest_framework.utils.serializer_helpers.ReturnDict'>\n",
      "{'pk': 7, 'message': '네번째 메세지입니다', 'created_at': '2023-08-02T08:23:55.361000Z', 'updated_at': '2023-08-02T08:23:55.361000Z', 'is_public': False, 'ip': '127.0.0.1', 'username': 'Youn', 'user_email': ''}\n"
     ]
    }
   ],
   "source": [
    "post = Post.objects.first()\n",
    "print(type(post))\n",
    "serializer = PostSerializer(post)\n",
    "# print(dir(serializer))\n",
    "print(type(serializer.data))\n",
    "print(serializer.data)"
   ]
  },
  {
   "cell_type": "code",
   "execution_count": 24,
   "id": "97ea32ea",
   "metadata": {},
   "outputs": [
    {
     "name": "stdout",
     "output_type": "stream",
     "text": [
      "<class 'django.db.models.query.QuerySet'>\n",
      "<class 'rest_framework.utils.serializer_helpers.ReturnList'>\n",
      "[OrderedDict([('pk', 7), ('message', '네번째 메세지입니다'), ('created_at', '2023-08-02T08:23:55.361000Z'), ('updated_at', '2023-08-02T08:23:55.361000Z'), ('is_public', False), ('ip', '127.0.0.1'), ('username', 'Youn'), ('user_email', '')]), OrderedDict([('pk', 6), ('message', '세번째 메세지 입니다'), ('created_at', '2023-08-02T07:25:41.976000Z'), ('updated_at', '2023-08-02T07:25:41.976000Z'), ('is_public', False), ('ip', '127.0.0.1'), ('username', 'ppark'), ('user_email', 'parkpill26@gmail.com')]), OrderedDict([('pk', 5), ('message', '세번째 메세지 입니다'), ('created_at', '2023-08-02T07:20:25.131000Z'), ('updated_at', '2023-08-02T07:20:25.131000Z'), ('is_public', False), ('ip', '127.0.0.1'), ('username', 'ppark'), ('user_email', 'parkpill26@gmail.com')]), OrderedDict([('pk', 4), ('message', '안녕하세요 네번째 포스팅입니다'), ('created_at', '2023-07-18T05:17:34.874000Z'), ('updated_at', '2023-07-18T05:17:34.874000Z'), ('is_public', False), ('ip', None), ('username', None), ('user_email', None)]), OrderedDict([('pk', 3), ('message', '안녕하세요 세번째 포스팅입니다'), ('created_at', '2023-07-18T05:16:05.070000Z'), ('updated_at', '2023-07-18T05:16:05.070000Z'), ('is_public', False), ('ip', None), ('username', None), ('user_email', None)]), OrderedDict([('pk', 2), ('message', '안녕하세요 두번째 포스팅입니다'), ('created_at', '2023-07-18T05:15:58.893000Z'), ('updated_at', '2023-07-18T05:15:58.893000Z'), ('is_public', False), ('ip', None), ('username', None), ('user_email', None)]), OrderedDict([('pk', 1), ('message', '안녕하세요 첫번째 포스팅입니다'), ('created_at', '2023-07-18T05:15:50.890000Z'), ('updated_at', '2023-07-18T05:15:50.890000Z'), ('is_public', False), ('ip', None), ('username', None), ('user_email', None)])]\n"
     ]
    }
   ],
   "source": [
    "post = Post.objects.all()\n",
    "print(type(post))\n",
    "serializer = PostSerializer(post, many = True)\n",
    "print(type(serializer.data))\n",
    "print(serializer.data)"
   ]
  },
  {
   "cell_type": "code",
   "execution_count": null,
   "id": "ab92cc9f",
   "metadata": {},
   "outputs": [],
   "source": []
  }
 ],
 "metadata": {
  "kernelspec": {
   "display_name": "Django Shell-Plus",
   "language": "python",
   "name": "django_extensions"
  },
  "language_info": {
   "codemirror_mode": {
    "name": "ipython",
    "version": 3
   },
   "file_extension": ".py",
   "mimetype": "text/x-python",
   "name": "python",
   "nbconvert_exporter": "python",
   "pygments_lexer": "ipython3",
   "version": "3.9.12"
  }
 },
 "nbformat": 4,
 "nbformat_minor": 5
}
